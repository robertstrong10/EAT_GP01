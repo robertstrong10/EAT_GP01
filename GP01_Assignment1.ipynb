{
 "cells": [
  {
   "cell_type": "markdown",
   "id": "c725ef0c",
   "metadata": {},
   "source": [
    "## Major Assignment 1 \n",
    "### Environmental Analysis Tools (ENEN90032) \n",
    "#### Authors: Olivia Borgstroem (1049030), Navindu de Silva (1084196), Robert Strong (1080043) \n",
    "#### Created: 22/08/2022\n",
    "#### Last Edited: 22/08/2022\n",
    "\n",
    "This is a notebook which complete the tasks outlined in 2022_ENEN90032_Assignment_01.pdf\n",
    "\n",
    "Git Hub Address: https://github.com/robertstrong10/EAT_GP01.git"
   ]
  },
  {
   "cell_type": "code",
   "execution_count": 1,
   "id": "9a1b5048-3d27-428d-917e-63acefbf8676",
   "metadata": {},
   "outputs": [],
   "source": [
    "import pandas as pd\n",
    "import matplotlib.pyplot as plt\n",
    "import numpy as np\n",
    "import scipy.stats as stats\n",
    "import math"
   ]
  },
  {
   "cell_type": "markdown",
   "id": "b70f3328",
   "metadata": {},
   "source": [
    "Task 1 Exploratory Data Analysis - Meteorological Datasets"
   ]
  },
  {
   "cell_type": "code",
   "execution_count": null,
   "id": "ee0daab2-ef5c-4ffe-a185-493c15e0b0bd",
   "metadata": {},
   "outputs": [],
   "source": []
  },
  {
   "cell_type": "markdown",
   "id": "8d0ac0a0",
   "metadata": {},
   "source": [
    "Atmospheric CO2 Concentration during Global Forced Confinement by COVID-19ced Confinement by COVID-19"
   ]
  },
  {
   "cell_type": "code",
   "execution_count": null,
   "id": "e84cd545",
   "metadata": {},
   "outputs": [],
   "source": []
  },
  {
   "cell_type": "markdown",
   "id": "4fcbf31b",
   "metadata": {},
   "source": [
    "Newcomb-Michelson Velocity of Light Experiments"
   ]
  },
  {
   "cell_type": "code",
   "execution_count": 2,
   "id": "d60b29f6",
   "metadata": {},
   "outputs": [
    {
     "name": "stdout",
     "output_type": "stream",
     "text": [
      "Sample Mean = 299763868.09810716 m/s\n",
      "T-test pvalue = 1.0\n",
      "99% CI from Bootstrap: (299731082.5421092, 299814979.065918)\n",
      "Speed of Light (Wikipedia, 2022) = 299792458 m/s\n",
      "Percentage Error Sample Mean and Wikipedia = 0.00953747430410256%\n",
      "Percentage Error q0.5 Bootstrap and Wikipedia = 0.0016201587526306926%\n"
     ]
    }
   ],
   "source": [
    "light_df = pd.read_csv('NewcombLight.txt', header=None)\n",
    "distance = 7442 # m at sea level\n",
    "wikipedia_speed = 299792458 # m/s accessed from https://en.wikipedia.org/wiki/Speed_of_light\n",
    "\n",
    "light_df = distance/ light_df\n",
    "light_df.columns = [\"speed\"] \n",
    "light_mean = np.mean(light_df.speed)\n",
    "\n",
    "\n",
    "# T-test\n",
    "light_t = stats.ttest_1samp(light_df, light_mean, alternative='two-sided', )\n",
    "print(\"Sample Mean = {} m/s\".format(light_mean))\n",
    "print(\"T-test pvalue = {}\".format(light_t.pvalue[0])) \n",
    "## pvalue is very large (~= 1) hence accept that the null hypothesis (that mean is correct)\n",
    "\n",
    "\n",
    "# Bootstrap\n",
    "light_b_data = (light_df,)\n",
    "light_bootstrap_ci = stats.bootstrap(light_b_data, np.mean, confidence_level=0.99, random_state=1, method='percentile')\n",
    "print(\"99% CI from Bootstrap: ({}, {})\".format(light_bootstrap_ci.confidence_interval[0][0], \n",
    "                                               light_bootstrap_ci.confidence_interval[1][0]))\n",
    "\n",
    "print(\"Speed of Light (Wikipedia, 2022) = {} m/s\".format(wikipedia_speed))\n",
    "print(\"Percentage Error Sample Mean and Wikipedia = {}%\".format(abs((light_mean-wikipedia_speed)/light_mean *100)))\n",
    "print(\"Percentage Error q0.5 Bootstrap and Wikipedia = {}%\".format(\n",
    "    abs(((light_bootstrap_ci.confidence_interval[0][0] +\n",
    "          light_bootstrap_ci.confidence_interval[1][0])/2-wikipedia_speed)\n",
    "        /(light_bootstrap_ci.confidence_interval[0][0] \n",
    "          + light_bootstrap_ci.confidence_interval[1][0])/2 *100)))\n"
   ]
  },
  {
   "cell_type": "markdown",
   "id": "7cc55d76",
   "metadata": {},
   "source": [
    "Space Shuttle O-Ring Failures"
   ]
  },
  {
   "cell_type": "code",
   "execution_count": 6,
   "id": "0a0da4e2",
   "metadata": {},
   "outputs": [
    {
     "data": {
      "text/html": [
       "<div>\n",
       "<style scoped>\n",
       "    .dataframe tbody tr th:only-of-type {\n",
       "        vertical-align: middle;\n",
       "    }\n",
       "\n",
       "    .dataframe tbody tr th {\n",
       "        vertical-align: top;\n",
       "    }\n",
       "\n",
       "    .dataframe thead th {\n",
       "        text-align: right;\n",
       "    }\n",
       "</style>\n",
       "<table border=\"1\" class=\"dataframe\">\n",
       "  <thead>\n",
       "    <tr style=\"text-align: right;\">\n",
       "      <th></th>\n",
       "      <th>INCIDENTS</th>\n",
       "      <th>LAUNCH</th>\n",
       "    </tr>\n",
       "  </thead>\n",
       "  <tbody>\n",
       "    <tr>\n",
       "      <th>0</th>\n",
       "      <td>1</td>\n",
       "      <td>COOL</td>\n",
       "    </tr>\n",
       "    <tr>\n",
       "      <th>1</th>\n",
       "      <td>1</td>\n",
       "      <td>COOL</td>\n",
       "    </tr>\n",
       "    <tr>\n",
       "      <th>2</th>\n",
       "      <td>1</td>\n",
       "      <td>COOL</td>\n",
       "    </tr>\n",
       "    <tr>\n",
       "      <th>3</th>\n",
       "      <td>3</td>\n",
       "      <td>COOL</td>\n",
       "    </tr>\n",
       "    <tr>\n",
       "      <th>4</th>\n",
       "      <td>0</td>\n",
       "      <td>WARM</td>\n",
       "    </tr>\n",
       "    <tr>\n",
       "      <th>5</th>\n",
       "      <td>0</td>\n",
       "      <td>WARM</td>\n",
       "    </tr>\n",
       "    <tr>\n",
       "      <th>6</th>\n",
       "      <td>0</td>\n",
       "      <td>WARM</td>\n",
       "    </tr>\n",
       "    <tr>\n",
       "      <th>7</th>\n",
       "      <td>0</td>\n",
       "      <td>WARM</td>\n",
       "    </tr>\n",
       "    <tr>\n",
       "      <th>8</th>\n",
       "      <td>0</td>\n",
       "      <td>WARM</td>\n",
       "    </tr>\n",
       "    <tr>\n",
       "      <th>9</th>\n",
       "      <td>0</td>\n",
       "      <td>WARM</td>\n",
       "    </tr>\n",
       "    <tr>\n",
       "      <th>10</th>\n",
       "      <td>0</td>\n",
       "      <td>WARM</td>\n",
       "    </tr>\n",
       "    <tr>\n",
       "      <th>11</th>\n",
       "      <td>0</td>\n",
       "      <td>WARM</td>\n",
       "    </tr>\n",
       "    <tr>\n",
       "      <th>12</th>\n",
       "      <td>0</td>\n",
       "      <td>WARM</td>\n",
       "    </tr>\n",
       "    <tr>\n",
       "      <th>13</th>\n",
       "      <td>0</td>\n",
       "      <td>WARM</td>\n",
       "    </tr>\n",
       "    <tr>\n",
       "      <th>14</th>\n",
       "      <td>0</td>\n",
       "      <td>WARM</td>\n",
       "    </tr>\n",
       "    <tr>\n",
       "      <th>15</th>\n",
       "      <td>0</td>\n",
       "      <td>WARM</td>\n",
       "    </tr>\n",
       "    <tr>\n",
       "      <th>16</th>\n",
       "      <td>0</td>\n",
       "      <td>WARM</td>\n",
       "    </tr>\n",
       "    <tr>\n",
       "      <th>17</th>\n",
       "      <td>0</td>\n",
       "      <td>WARM</td>\n",
       "    </tr>\n",
       "    <tr>\n",
       "      <th>18</th>\n",
       "      <td>0</td>\n",
       "      <td>WARM</td>\n",
       "    </tr>\n",
       "    <tr>\n",
       "      <th>19</th>\n",
       "      <td>0</td>\n",
       "      <td>WARM</td>\n",
       "    </tr>\n",
       "    <tr>\n",
       "      <th>20</th>\n",
       "      <td>0</td>\n",
       "      <td>WARM</td>\n",
       "    </tr>\n",
       "    <tr>\n",
       "      <th>21</th>\n",
       "      <td>1</td>\n",
       "      <td>WARM</td>\n",
       "    </tr>\n",
       "    <tr>\n",
       "      <th>22</th>\n",
       "      <td>1</td>\n",
       "      <td>WARM</td>\n",
       "    </tr>\n",
       "    <tr>\n",
       "      <th>23</th>\n",
       "      <td>2</td>\n",
       "      <td>WARM</td>\n",
       "    </tr>\n",
       "  </tbody>\n",
       "</table>\n",
       "</div>"
      ],
      "text/plain": [
       "    INCIDENTS LAUNCH\n",
       "0           1   COOL\n",
       "1           1   COOL\n",
       "2           1   COOL\n",
       "3           3   COOL\n",
       "4           0   WARM\n",
       "5           0   WARM\n",
       "6           0   WARM\n",
       "7           0   WARM\n",
       "8           0   WARM\n",
       "9           0   WARM\n",
       "10          0   WARM\n",
       "11          0   WARM\n",
       "12          0   WARM\n",
       "13          0   WARM\n",
       "14          0   WARM\n",
       "15          0   WARM\n",
       "16          0   WARM\n",
       "17          0   WARM\n",
       "18          0   WARM\n",
       "19          0   WARM\n",
       "20          0   WARM\n",
       "21          1   WARM\n",
       "22          1   WARM\n",
       "23          2   WARM"
      ]
     },
     "execution_count": 6,
     "metadata": {},
     "output_type": "execute_result"
    }
   ],
   "source": [
    "temps = pd.read_excel(\"O_Ring_Data.XLS\")\n",
    "temps"
   ]
  },
  {
   "cell_type": "markdown",
   "id": "3436c6ad",
   "metadata": {},
   "source": [
    "Cloud Seeding Experiment"
   ]
  },
  {
   "cell_type": "code",
   "execution_count": null,
   "id": "15f83519",
   "metadata": {},
   "outputs": [],
   "source": []
  },
  {
   "cell_type": "markdown",
   "id": "200ee0ef",
   "metadata": {},
   "source": [
    "Atmospheric CO2 Concentration during Global Forced Confinement by COVID-19ced Confinement by COVID-19"
   ]
  },
  {
   "cell_type": "code",
   "execution_count": null,
   "id": "1ab60931",
   "metadata": {},
   "outputs": [],
   "source": []
  }
 ],
 "metadata": {
  "kernelspec": {
   "display_name": "Python 3.10.5 ('EATA1')",
   "language": "python",
   "name": "python3"
  },
  "language_info": {
   "codemirror_mode": {
    "name": "ipython",
    "version": 3
   },
   "file_extension": ".py",
   "mimetype": "text/x-python",
   "name": "python",
   "nbconvert_exporter": "python",
   "pygments_lexer": "ipython3",
   "version": "3.10.6"
  },
  "vscode": {
   "interpreter": {
    "hash": "d60a22687f88ee9bd6e31f7045079ba080720a288a9e56b86916ad942ad11783"
   }
  }
 },
 "nbformat": 4,
 "nbformat_minor": 5
}
